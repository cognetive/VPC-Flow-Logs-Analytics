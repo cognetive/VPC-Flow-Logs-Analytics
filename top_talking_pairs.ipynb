{
 "cells": [
  {
   "cell_type": "code",
   "execution_count": null,
   "metadata": {
    "collapsed": true
   },
   "outputs": [],
   "source": [
    "# Insert amout of pairs\n",
    "N = 10\n",
    "AB_df = flowlogs_df.loc[flowlogs_df[\"src_ip\"] > flowlogs_df[\"dst_ip\"]]\n",
    "BA_df = flowlogs_df.loc[flowlogs_df[\"dst_ip\"] > flowlogs_df[\"src_ip\"]].rename(columns={\"src_ip\":\"dst_ip\", \"dst_ip\":\"src_ip\", \"ABPackets\":\"BAPackets\", \"BAPackets\":\"ABPackets\"})\n",
    "ordered_df = AB_df.append(BA_df)\n",
    "    \n",
    "res_df = ordered_df.groupby(['src_ip', 'dst_ip']).agg({\"Total_Packets\":'sum', \"ABPackets\":'sum', \"BAPackets\":'sum'}).nlargest(N, 'Total_Packets').sort_values(by=[\"Total_Packets\"], ascending=False).reset_index()\n",
    "\n",
    "ip1, ip2, stream1, stream2 = res_df.iloc[0][[\"src_ip\", \"dst_ip\", \"ABPackets\", \"BAPackets\"]]\n",
    "A, B, AB, BA = (ip1, ip2, stream1, stream2) if stream1 > stream2 else (ip2, ip1, stream2, stream1)\n",
    "\n",
    "print(\"The top talking pair is (%s, %s),\" % (A,  B))\n",
    "print(\"While %.2f%% of the traffic goes from %s to %s\\n\\n\\n\" % (100*AB/(AB + BA), A,  B))\n",
    "\n",
    "# Plot Graph\n",
    "\n",
    "plt.figure(figsize=(20,10))\n",
    "\n",
    "edges = [(res_df['src_ip'].iloc[i], res_df['dst_ip'].iloc[i], {'weight': res_df['Total_Packets'].iloc[i]}) for i in range(len(res_df.index))]\n",
    "\n",
    "G = nx.OrderedGraph()\n",
    "G.add_edges_from(edges)\n",
    "\n",
    "# positions for all nodes\n",
    "pos = nx.circular_layout(G) \n",
    "\n",
    "# labels\n",
    "nx.draw_networkx_labels(G, pos)\n",
    "\n",
    "# edge widths\n",
    "widths = scale(res_df['Total_Packets'].values, 10)\n",
    "\n",
    "# edges\n",
    "nx.draw_networkx_edges(G, pos, width=widths, alpha=0.3)\n",
    "\n",
    "# node sizes\n",
    "sizes = scale([elem[1] for elem in G.degree(weight='weight')], 2000)\n",
    "\n",
    "nx.draw_networkx_nodes(G, pos, node_color = 'orange', node_size = sizes)\n",
    "\n",
    "# weights\n",
    "labels = nx.get_edge_attributes(G, 'weight')\n",
    "for key, value in labels.items():\n",
    "    labels[key] = number_format(value)\n",
    "nx.draw_networkx_edge_labels(G, pos, edge_labels=labels)\n",
    "\n",
    "plt.axis('off')\n",
    "plt.title('Top-%s Talking Pairs' % N, fontsize=30)\n",
    "plt.show()"
   ]
  }
 ],
 "metadata": {
  "kernelspec": {
   "display_name": "Python 3.6",
   "language": "python",
   "name": "python3"
  },
  "language_info": {
   "codemirror_mode": {
    "name": "ipython",
    "version": 3
   },
   "file_extension": ".py",
   "mimetype": "text/x-python",
   "name": "python",
   "nbconvert_exporter": "python",
   "pygments_lexer": "ipython3",
   "version": "3.6.8"
  }
 },
 "nbformat": 4,
 "nbformat_minor": 1
}
