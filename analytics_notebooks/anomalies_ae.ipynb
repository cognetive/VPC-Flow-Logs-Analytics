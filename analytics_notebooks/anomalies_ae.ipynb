{
 "cells": [
  {
   "cell_type": "markdown",
   "metadata": {
    "collapsed": true
   },
   "source": [
    "## Anomaly Detection in Multi Dimensional Signal"
   ]
  },
  {
   "cell_type": "code",
   "execution_count": null,
   "metadata": {},
   "outputs": [],
   "source": [
    "# Uncomment to install Analytics package\n",
    "# !pip install git+https://github.com/cognetive/VPC-Flow-Logs-Analytics.git"
   ]
  },
  {
   "cell_type": "code",
   "execution_count": null,
   "metadata": {},
   "outputs": [],
   "source": [
    "# Run this cell after loading flowlogs_df\n",
    "from data_preparation import data_format\n",
    "\n",
    "flowlogs_df = data_format(flowlogs_df)"
   ]
  },
  {
   "cell_type": "markdown",
   "metadata": {},
   "source": [
    "### Prepare Data"
   ]
  },
  {
   "cell_type": "code",
   "execution_count": null,
   "metadata": {},
   "outputs": [],
   "source": [
    "# metrics are the columns in flowlogs_df where anomalies should be detected.\n",
    "# sample_rate is the rate these columns will be resampled and aggregated.\n",
    "metrics = ['ABBytes', 'BABytes', 'ABPackets', 'BAPackets'] \n",
    "sample_rate = '1Min'"
   ]
  },
  {
   "cell_type": "code",
   "execution_count": null,
   "metadata": {},
   "outputs": [],
   "source": [
    "from data_preparation import time_series\n",
    "\n",
    "data_df = time_series(flowlogs_df, metrics, sample_rate)"
   ]
  },
  {
   "cell_type": "code",
   "execution_count": null,
   "metadata": {},
   "outputs": [],
   "source": [
    "# train_size is the relative size of the training set.\n",
    "train_size = 0.8 "
   ]
  },
  {
   "cell_type": "code",
   "execution_count": null,
   "metadata": {},
   "outputs": [],
   "source": [
    "from data_preparation import standardize\n",
    "\n",
    "print(\"Preparing data to learning task...\")\n",
    "split_index = int(train_size*len(data_df.index))\n",
    "train_set = standardize(data_df[:split_index])\n",
    "test_set = standardize(data_df[split_index:])\n",
    "print(\"Done.\")"
   ]
  },
  {
   "cell_type": "markdown",
   "metadata": {},
   "source": [
    "### Decode-Encode"
   ]
  },
  {
   "cell_type": "code",
   "execution_count": null,
   "metadata": {},
   "outputs": [],
   "source": [
    "epochs = 1   # Duration of training."
   ]
  },
  {
   "cell_type": "code",
   "execution_count": null,
   "metadata": {},
   "outputs": [],
   "source": [
    "from machine_learning import FC_autoencoder\n",
    "\n",
    "decoded, encoded = FC_autoencoder(train_set, test_set, max_epochs=epochs)"
   ]
  },
  {
   "cell_type": "markdown",
   "metadata": {},
   "source": [
    "### Anomaly Times"
   ]
  },
  {
   "cell_type": "code",
   "execution_count": null,
   "metadata": {},
   "outputs": [],
   "source": [
    "import numpy as np\n",
    "from anomaly_processing import find_anomalies\n",
    "\n",
    "scores = [np.mean(np.abs(test_set.iloc[i] - encoded.iloc[i])) for i in range(len(test_set.index))]\n",
    "anomaly_indices = find_anomalies(scores)\n",
    "print(\"Anomalies occured at:\")\n",
    "for ind in anomaly_indices:\n",
    "    print(test_set.index[ind])"
   ]
  }
 ],
 "metadata": {
  "kernelspec": {
   "display_name": "Python 3.6",
   "language": "python",
   "name": "python3"
  },
  "language_info": {
   "codemirror_mode": {
    "name": "ipython",
    "version": 3
   },
   "file_extension": ".py",
   "mimetype": "text/x-python",
   "name": "python",
   "nbconvert_exporter": "python",
   "pygments_lexer": "ipython3",
   "version": "3.6.8"
  }
 },
 "nbformat": 4,
 "nbformat_minor": 1
}
