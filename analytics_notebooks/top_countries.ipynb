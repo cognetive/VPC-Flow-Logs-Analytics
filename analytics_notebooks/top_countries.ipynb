{
 "cells": [
  {
   "cell_type": "markdown",
   "metadata": {},
   "source": [
    "## Use this notebook to get the top N talking countries (by flows)"
   ]
  },
  {
   "cell_type": "code",
   "execution_count": null,
   "metadata": {},
   "outputs": [],
   "source": [
    "# Uncomment to install Analytics package\n",
    "# !pip install git+https://github.com/cognetive/VPC-Flow-Logs-Analytics.git"
   ]
  },
  {
   "cell_type": "code",
   "execution_count": null,
   "metadata": {},
   "outputs": [],
   "source": [
    "# Run this cell after loading flowlogs_df\n",
    "from data_preparation import data_format\n",
    "\n",
    "flowlogs_df = data_format(flowlogs_df)"
   ]
  },
  {
   "cell_type": "code",
   "execution_count": null,
   "metadata": {},
   "outputs": [],
   "source": [
    "pairs_num = 10"
   ]
  },
  {
   "cell_type": "code",
   "execution_count": null,
   "metadata": {
    "collapsed": true
   },
   "outputs": [],
   "source": [
    "import matplotlib.pyplot as plt\n",
    "\n",
    "flowlogs_df = add_countries(flowlogs_df)\n",
    "res_df = flowlogs_df.groupby(['src_country', 'dst_country']).size().to_frame('flows_num').nlargest(pairs_num, 'flows_num').reset_index()\n",
    "res_df[\"flows_num\"] = res_df[\"flows_num\"].apply(number_format)\n",
    "plt.table(cellText=res_df.values, colLabels=res_df.columns, cellLoc='center', bbox=[0,0,1.5,0.2*(pairs_num+1)], cellColours=[['lightgrey']*3]*pairs_num, colColours=['grey']*3)\n",
    "plt.axis('off')\n",
    "plt.show()"
   ]
  }
 ],
 "metadata": {
  "kernelspec": {
   "display_name": "Python 3.6",
   "language": "python",
   "name": "python3"
  },
  "language_info": {
   "codemirror_mode": {
    "name": "ipython",
    "version": 3
   },
   "file_extension": ".py",
   "mimetype": "text/x-python",
   "name": "python",
   "nbconvert_exporter": "python",
   "pygments_lexer": "ipython3",
   "version": "3.6.8"
  }
 },
 "nbformat": 4,
 "nbformat_minor": 1
}
