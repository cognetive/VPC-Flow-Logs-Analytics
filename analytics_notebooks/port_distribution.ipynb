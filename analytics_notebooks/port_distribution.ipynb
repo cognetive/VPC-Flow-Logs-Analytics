{
 "cells": [
  {
   "cell_type": "markdown",
   "metadata": {},
   "source": [
    "## Use this notebook to view the distribution of the most used ports"
   ]
  },
  {
   "cell_type": "code",
   "execution_count": null,
   "metadata": {},
   "outputs": [],
   "source": [
    "# Uncomment to install Analytics package\n",
    "# !pip install git+https://github.com/cognetive/VPC-Flow-Logs-Analytics.git"
   ]
  },
  {
   "cell_type": "code",
   "execution_count": null,
   "metadata": {},
   "outputs": [],
   "source": [
    "# Run this cell after loading flowlogs_df\n",
    "from data_preparation import data_format\n",
    "\n",
    "flowlogs_df = data_format(flowlogs_df)"
   ]
  },
  {
   "cell_type": "code",
   "execution_count": null,
   "metadata": {},
   "outputs": [],
   "source": [
    "ports_num = 5   # Specify the amount of most-used ports to be shown"
   ]
  },
  {
   "cell_type": "code",
   "execution_count": null,
   "metadata": {},
   "outputs": [],
   "source": [
    "import matplotlib.pyplot as plt\n",
    "\n",
    "portsAB_df = flowlogs_df.groupby(['dst_port']).count()[\"UUID\"]\n",
    "portsBA_df = flowlogs_df.groupby(['src_port']).count()[\"UUID\"]\n",
    "ports_df = portsAB_df.append(portsBA_df)\n",
    "ports_df = ports_df.groupby(ports_df.index).agg({'UUID':'sum'}).nlargest(ports_num, 'UUID')\n",
    "\n",
    "plt.figure(figsize=(10, 10))\n",
    "plt.pie(ports_df, labels=ports_df.values)\n",
    "plt.legend(ports_df.index, title=\"port num\", fontsize=12, title_fontsize=12)\n",
    "plt.show()"
   ]
  }
 ],
 "metadata": {
  "kernelspec": {
   "display_name": "Python 3.6",
   "language": "python",
   "name": "python3"
  },
  "language_info": {
   "codemirror_mode": {
    "name": "ipython",
    "version": 3
   },
   "file_extension": ".py",
   "mimetype": "text/x-python",
   "name": "python",
   "nbconvert_exporter": "python",
   "pygments_lexer": "ipython3",
   "version": "3.6.8"
  }
 },
 "nbformat": 4,
 "nbformat_minor": 1
}
