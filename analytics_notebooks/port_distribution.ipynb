{
 "cells": [
  {
   "cell_type": "code",
   "execution_count": null,
   "metadata": {
    "collapsed": true
   },
   "outputs": [],
   "source": [
    "portsAB_df = flowlogs_df.groupby(['dst_port']).agg({'ABPackets':'sum'}).nlargest(10, 'ABPackets')\n",
    "portsBA_df = flowlogs_df.groupby(['src_port']).agg({'BAPackets':'sum'}).nlargest(10, 'BAPackets').rename(columns={\"BAPackets\": \"ABPackets\"})\n",
    "ports_df = portsAB_df.append(portsBA_df)\n",
    "res_df = ports_df.groupby(ports_df.index).agg({'ABPackets':'sum'}).nlargest(10, 'ABPackets')\n",
    "res_df.plot(kind='pie', figsize=(10,10), subplots='True')\n",
    "plt.show()"
   ]
  }
 ],
 "metadata": {
  "kernelspec": {
   "display_name": "Python 3.6",
   "language": "python",
   "name": "python3"
  },
  "language_info": {
   "codemirror_mode": {
    "name": "ipython",
    "version": 3
   },
   "file_extension": ".py",
   "mimetype": "text/x-python",
   "name": "python",
   "nbconvert_exporter": "python",
   "pygments_lexer": "ipython3",
   "version": "3.6.8"
  }
 },
 "nbformat": 4,
 "nbformat_minor": 1
}
