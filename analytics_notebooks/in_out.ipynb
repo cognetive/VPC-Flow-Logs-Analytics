{
 "cells": [
  {
   "cell_type": "code",
   "execution_count": null,
   "metadata": {
    "collapsed": true
   },
   "outputs": [],
   "source": [
    "## Insert an IP address \n",
    "ip = \"5.102.239.42\"\n",
    "src_df = flowlogs_df.loc[flowlogs_df['src_ip'] == ip]\n",
    "dst_df = flowlogs_df.loc[flowlogs_df['dst_ip'] == ip]\n",
    "\n",
    "inbound = np.nan_to_num(src_df[\"BAPackets\"].sum()) + np.nan_to_num(dst_df[\"ABPackets\"].sum())\n",
    "outbound = np.nan_to_num(src_df[\"ABPackets\"].sum()) + np.nan_to_num(dst_df[\"BAPackets\"].sum())\n",
    "\n",
    "plt.figure(figsize=(2,5))\n",
    "plt.xticks([1, 2], [\"inbound\", \"outbound\"]), plt.yticks([inbound, outbound])\n",
    "plt.bar([1], [inbound], color='green'), plt.bar([2], [outbound], color='orange')\n",
    "plt.title(\"Amount of Packets\", y=1.1, fontdict={'fontsize': 15})\n",
    "plt.show()"
   ]
  }
 ],
 "metadata": {
  "kernelspec": {
   "display_name": "Python 3.6",
   "language": "python",
   "name": "python3"
  },
  "language_info": {
   "codemirror_mode": {
    "name": "ipython",
    "version": 3
   },
   "file_extension": ".py",
   "mimetype": "text/x-python",
   "name": "python",
   "nbconvert_exporter": "python",
   "pygments_lexer": "ipython3",
   "version": "3.6.8"
  }
 },
 "nbformat": 4,
 "nbformat_minor": 1
}
