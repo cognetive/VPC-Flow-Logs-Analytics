{
 "cells": [
  {
   "cell_type": "markdown",
   "metadata": {},
   "source": [
    "## Use this notebook to get the distribution of the average packet size"
   ]
  },
  {
   "cell_type": "code",
   "execution_count": null,
   "metadata": {},
   "outputs": [],
   "source": [
    "# Uncomment to install Analytics package\n",
    "# !pip install git+https://github.com/cognetive/VPC-Flow-Logs-Analytics.git"
   ]
  },
  {
   "cell_type": "code",
   "execution_count": null,
   "metadata": {},
   "outputs": [],
   "source": [
    "# Run this cell after loading flowlogs_df\n",
    "from data_preparation import data_format\n",
    "\n",
    "flowlogs_df = data_format(flowlogs_df)"
   ]
  },
  {
   "cell_type": "code",
   "execution_count": null,
   "metadata": {
    "collapsed": true
   },
   "outputs": [],
   "source": [
    "import numpy as np, matplotlib.pyplot as plt\n",
    "\n",
    "inverted_df = flowlogs_df.rename(columns={\"BAPackets\":\"ABPackets\", \"ABPackets\":\"BAPackets\", \"BABytes\":\"ABBytes\", \"ABBytes\":\"BABytes\"}).append(flowlogs_df, sort=True).groupby(['src_ip']).agg({'ABPackets':'sum', 'ABBytes':'sum'})\n",
    "inverted_df[\"avg_size\"] = inverted_df[\"ABBytes\"] / inverted_df[\"ABPackets\"]\n",
    "plt.figure(figsize=(15,6))\n",
    "bins = [100 * i for i in range(int(2 + 0.01*np.max(inverted_df[\"avg_size\"].values)))]\n",
    "plt.hist(inverted_df[\"avg_size\"], log=True, bins=bins)\n",
    "plt.xticks(bins)\n",
    "plt.title(\"Average Packet Size\", size=25)\n",
    "plt.xlabel('Average Packet Size', size=15), plt.ylabel('Amount of Instances (Log Scale)', size=15)\n",
    "plt.show()"
   ]
  }
 ],
 "metadata": {
  "kernelspec": {
   "display_name": "Python 3.6",
   "language": "python",
   "name": "python3"
  },
  "language_info": {
   "codemirror_mode": {
    "name": "ipython",
    "version": 3
   },
   "file_extension": ".py",
   "mimetype": "text/x-python",
   "name": "python",
   "nbconvert_exporter": "python",
   "pygments_lexer": "ipython3",
   "version": "3.6.8"
  }
 },
 "nbformat": 4,
 "nbformat_minor": 1
}
