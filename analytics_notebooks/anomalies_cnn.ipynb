{
 "cells": [
  {
   "cell_type": "markdown",
   "metadata": {},
   "source": [
    "## Anomaly Detection in 1d Time Series"
   ]
  },
  {
   "cell_type": "markdown",
   "metadata": {},
   "source": [
    "### Prepare Data"
   ]
  },
  {
   "cell_type": "code",
   "execution_count": null,
   "metadata": {},
   "outputs": [],
   "source": [
    "# metric is the column in flowlogs_df where anomalies should be detected.\n",
    "# sample_rate is the rate this column will be resampled and aggregated.\n",
    "# train_size is the relative size of the training set.\n",
    "# window_size is the length of each row in the shingled data.\n",
    "metric = 'ABBytes', sample_rate = '1Min', train_size = 0.8, window_size = 16"
   ]
  },
  {
   "cell_type": "code",
   "execution_count": null,
   "metadata": {},
   "outputs": [],
   "source": [
    "from data_preparation import time_series_1d, standardize, shingle\n",
    "\n",
    "print(\"Preparing data for learning task...\")\n",
    "data_df = time_series_1d(flowlogs_df, metric, sample_rate)\n",
    "split_index = int(train_size*len(data_df.index))\n",
    "train_set, train_labels = shingle(standardize(data_df[:split_index]), window=window_size)\n",
    "test_set, test_labels = shingle(standardize(data_df[split_index:]), window=window_size)\n",
    "print(\"Done.\")"
   ]
  },
  {
   "cell_type": "markdown",
   "metadata": {},
   "source": [
    "### Learn and Predict"
   ]
  },
  {
   "cell_type": "code",
   "execution_count": null,
   "metadata": {},
   "outputs": [],
   "source": [
    "epochs = 10   # Duration of training."
   ]
  },
  {
   "cell_type": "code",
   "execution_count": null,
   "metadata": {},
   "outputs": [],
   "source": [
    "from machine_learning import cnn_regression\n",
    "\n",
    "pred = cnn_regression(train_set, test_set, train_labels, test_labels, max_epochs=epochs)"
   ]
  },
  {
   "cell_type": "markdown",
   "metadata": {},
   "source": [
    "### Visualize Anomalies"
   ]
  },
  {
   "cell_type": "code",
   "execution_count": null,
   "metadata": {},
   "outputs": [],
   "source": [
    "from anomaly_processing import find_anomalies, anomaly_visualization\n",
    "\n",
    "actual = np.reshape(test_labels.values, len(test_labels.index))\n",
    "scores = np.abs(actual - pred)\n",
    "anomaly_indices = find_anomalies(scores)\n",
    "anomaly_visualization(test_labels.index, test_labels.values, anomaly_indices)"
   ]
  }
 ],
 "metadata": {
  "kernelspec": {
   "display_name": "Python 3.6",
   "language": "python",
   "name": "python3"
  },
  "language_info": {
   "codemirror_mode": {
    "name": "ipython",
    "version": 3
   },
   "file_extension": ".py",
   "mimetype": "text/x-python",
   "name": "python",
   "nbconvert_exporter": "python",
   "pygments_lexer": "ipython3",
   "version": "3.6.8"
  }
 },
 "nbformat": 4,
 "nbformat_minor": 1
}
