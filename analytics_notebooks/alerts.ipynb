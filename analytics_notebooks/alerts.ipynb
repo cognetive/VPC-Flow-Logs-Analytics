{
 "cells": [
  {
   "cell_type": "markdown",
   "metadata": {},
   "source": [
    "## Use this notebook to hour in which the amount of flows to a single destination exceeds a threshold"
   ]
  },
  {
   "cell_type": "code",
   "execution_count": null,
   "metadata": {},
   "outputs": [],
   "source": [
    "# Uncomment to install Analytics package\n",
    "# !pip install git+https://github.com/cognetive/VPC-Flow-Logs-Analytics.git"
   ]
  },
  {
   "cell_type": "code",
   "execution_count": null,
   "metadata": {},
   "outputs": [],
   "source": [
    "# Run this cell after loading flowlogs_df\n",
    "from data_preparation import data_format\n",
    "\n",
    "flowlogs_df = data_format(flowlogs_df)"
   ]
  },
  {
   "cell_type": "code",
   "execution_count": null,
   "metadata": {},
   "outputs": [],
   "source": [
    "threshold = 10"
   ]
  },
  {
   "cell_type": "code",
   "execution_count": null,
   "metadata": {},
   "outputs": [],
   "source": [
    "import matplotlib.pyplot as plt\n",
    "\n",
    "flowlogs_df[\"Hour\"] = flowlogs_df[\"Start\"].apply(lambda t: t.strftime('%Y-%m-%d %H:00'))\n",
    "alerts_df = flowlogs_df.groupby(['dst_ip', 'Hour']).count()[[\"UUID\"]]\n",
    "alerts_df = alerts_df.loc[alerts_df[\"UUID\"] > threshold]\n",
    "plt.table(cellText=alerts_df.index.values, colLabels=[alerts_df.index.names[0], alerts_df.index.names[1]], cellLoc='center', bbox=[0,0,1,0.2*(len(alerts_df.index)+1)], cellColours=[['lightgrey']*2]*len(alerts_df.index), colColours=['grey']*2)\n",
    "plt.axis('off')\n",
    "plt.show()"
   ]
  }
 ],
 "metadata": {
  "kernelspec": {
   "display_name": "Python 3.6",
   "language": "python",
   "name": "python3"
  },
  "language_info": {
   "codemirror_mode": {
    "name": "ipython",
    "version": 3
   },
   "file_extension": ".py",
   "mimetype": "text/x-python",
   "name": "python",
   "nbconvert_exporter": "python",
   "pygments_lexer": "ipython3",
   "version": "3.6.8"
  }
 },
 "nbformat": 4,
 "nbformat_minor": 1
}
