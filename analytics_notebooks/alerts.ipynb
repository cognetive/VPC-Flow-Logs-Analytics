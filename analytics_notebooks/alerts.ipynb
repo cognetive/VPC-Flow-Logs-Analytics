{
 "cells": [
  {
   "cell_type": "code",
   "execution_count": null,
   "metadata": {
    "collapsed": true
   },
   "outputs": [],
   "source": [
    "# Select threshold of flows and duration (by hours)\n",
    "threshold = 500\n",
    "duration = 1\n",
    "sorted_df = flowlogs_df.sort_values(by=['dst_ip', 'Start'])\n",
    "shifted_df = sorted_df.shift(-threshold)\n",
    "sorted_df['Diff'] = (shifted_df['Start'] - sorted_df['Start']).astype('timedelta64[h]')\n",
    "alerts_df = sorted_df.loc[(sorted_df['Diff'] < duration) & (shifted_df['dst_ip'] == sorted_df[\"dst_ip\"])]\n",
    "alerts_df = alerts_df.loc[alerts_df[\"dst_ip\"] != alerts_df.shift()[\"dst_ip\"]]\n",
    "alerts_df = alerts_df[[\"Start\", \"dst_ip\"]].sort_values(by=['Start'])\n",
    "alerts_df[\"Start\"] = alerts_df[\"Start\"].apply(lambda t: t.strftime('%Y-%m-%d %H:%M'))\n",
    "\n",
    "plt.table(cellText=alerts_df.values, colLabels=alerts_df.columns, cellLoc='center', bbox=[0,0,1,0.2*(len(alerts_df.index)+1)], cellColours=[['lightgrey']*2]*len(alerts_df.index), colColours=['grey']*2)\n",
    "plt.title(\"Start time and destination of streams that exceed the threshold:\", fontsize=16)\n",
    "plt.axis('off')\n",
    "plt.show()"
   ]
  }
 ],
 "metadata": {
  "kernelspec": {
   "display_name": "Python 3.6",
   "language": "python",
   "name": "python3"
  },
  "language_info": {
   "codemirror_mode": {
    "name": "ipython",
    "version": 3
   },
   "file_extension": ".py",
   "mimetype": "text/x-python",
   "name": "python",
   "nbconvert_exporter": "python",
   "pygments_lexer": "ipython3",
   "version": "3.6.8"
  }
 },
 "nbformat": 4,
 "nbformat_minor": 1
}
