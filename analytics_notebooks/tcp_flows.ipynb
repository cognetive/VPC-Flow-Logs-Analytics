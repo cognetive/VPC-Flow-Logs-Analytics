{
 "cells": [
  {
   "cell_type": "code",
   "execution_count": null,
   "metadata": {
    "collapsed": true
   },
   "outputs": [],
   "source": [
    "indices = flowlogs_df.set_index('Start').resample('1D').count().index\n",
    "twowaytcp = flowlogs_df[(flowlogs_df['ABPackets'] != 0) & (flowlogs_df['BAPackets'] != 0) & (flowlogs_df['Protocol'] == \"TCP\")].set_index('Start').iloc[:, 0].resample('1D').count().fillna(0).values\n",
    "onewaytcp = flowlogs_df[((flowlogs_df['ABPackets'] == 0) | (flowlogs_df['BAPackets'] == 0)) & (flowlogs_df['Protocol'] == \"TCP\")].set_index('Start').iloc[:, 0].resample('1D').count().fillna(0).values\n",
    "tcp_df = pd.DataFrame(index=indices, columns=[\"Two_Way_TCP\", \"One_Way_TCP\"])\n",
    "tcp_df[\"Two_Way_TCP\"] = twowaytcp\n",
    "tcp_df[\"One_Way_TCP\"] = onewaytcp\n",
    "tcp_df.index = tcp_df.index.date\n",
    "ax = tcp_df.plot.bar(stacked=True, figsize=(20, 5))\n",
    "vals = ax.get_yticks()\n",
    "ax.set_yticklabels([number_format(x) for x in vals])\n",
    "plt.show()"
   ]
  }
 ],
 "metadata": {
  "kernelspec": {
   "display_name": "Python 3.6",
   "language": "python",
   "name": "python3"
  },
  "language_info": {
   "codemirror_mode": {
    "name": "ipython",
    "version": 3
   },
   "file_extension": ".py",
   "mimetype": "text/x-python",
   "name": "python",
   "nbconvert_exporter": "python",
   "pygments_lexer": "ipython3",
   "version": "3.6.8"
  }
 },
 "nbformat": 4,
 "nbformat_minor": 1
}
