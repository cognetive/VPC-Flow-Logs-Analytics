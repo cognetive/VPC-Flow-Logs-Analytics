{
 "cells": [
  {
   "cell_type": "code",
   "execution_count": null,
   "metadata": {
    "collapsed": true
   },
   "outputs": [],
   "source": [
    "## Insert an IP address \n",
    "ip = \"195.110.40.7\"\n",
    "src_df = flowlogs_df.loc[flowlogs_df['src_ip'] == ip]\n",
    "rejection_ratio = 100 * len(src_df.loc[src_df['Action'] == \"REJECTED\"].index) / len(src_df.index)\n",
    "rejection_str = str(int(rejection_ratio)) + \"%\" \n",
    "\n",
    "pts1 = [(-1, 0), (1, 0), (0, 100)]\n",
    "pts2 = [(-1, 0), (-1+rejection_ratio*0.01, rejection_ratio), (1-rejection_ratio*0.01, rejection_ratio), (1, 0)]\n",
    "plt.figure(figsize=(2,4))\n",
    "ax = plt.subplot(111)\n",
    "triangle = plt.Polygon(pts1, fill=False, edgecolor='black')\n",
    "percentage = plt.Polygon(pts2, fill=True, edgecolor='orange', facecolor='orange')\n",
    "ax.add_patch(percentage)\n",
    "ax.add_patch(triangle)\n",
    "\n",
    "ax.plot()\n",
    "ax.axis('off')\n",
    "plt.title(\"Rejection Percentage of %s\" % ip, y=1.02, fontdict={'fontsize': 15})\n",
    "plt.annotate(rejection_str, xy=(0,rejection_ratio+1), ha=\"center\", size=14)\n",
    "\n",
    "plt.show()"
   ]
  }
 ],
 "metadata": {
  "kernelspec": {
   "display_name": "Python 3.6",
   "language": "python",
   "name": "python3"
  },
  "language_info": {
   "codemirror_mode": {
    "name": "ipython",
    "version": 3
   },
   "file_extension": ".py",
   "mimetype": "text/x-python",
   "name": "python",
   "nbconvert_exporter": "python",
   "pygments_lexer": "ipython3",
   "version": "3.6.8"
  }
 },
 "nbformat": 4,
 "nbformat_minor": 1
}
