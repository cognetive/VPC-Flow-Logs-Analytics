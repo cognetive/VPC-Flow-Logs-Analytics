{
 "cells": [
  {
   "cell_type": "markdown",
   "metadata": {},
   "source": [
    "## Use this notebook to find hotspots (by packets)"
   ]
  },
  {
   "cell_type": "code",
   "execution_count": null,
   "metadata": {},
   "outputs": [],
   "source": [
    "# Uncomment to install Analytics package\n",
    "# !pip install git+https://github.com/cognetive/VPC-Flow-Logs-Analytics.git"
   ]
  },
  {
   "cell_type": "code",
   "execution_count": null,
   "metadata": {},
   "outputs": [],
   "source": [
    "# Run this cell after loading flowlogs_df\n",
    "from data_preparation import data_format\n",
    "\n",
    "flowlogs_df = data_format(flowlogs_df)"
   ]
  },
  {
   "cell_type": "code",
   "execution_count": null,
   "metadata": {},
   "outputs": [],
   "source": [
    "hotspots_num = 10"
   ]
  },
  {
   "cell_type": "code",
   "execution_count": null,
   "metadata": {
    "collapsed": true
   },
   "outputs": [],
   "source": [
    "import pandas as pd, matplotlib.pyplot as plt\n",
    "\n",
    "src_df = flowlogs_df.groupby(['src_ip']).agg({'ABPackets':'sum'}).rename(columns={\"ABPackets\": \"Packets\"})\n",
    "dst_df = flowlogs_df.groupby(['dst_ip']).agg({'BAPackets':'sum'}).rename(columns={\"BAPackets\": \"Packets\"})\n",
    "tot_df = pd.concat([src_df, dst_df])\n",
    "tot_df = tot_df.groupby(tot_df.index).agg({'Packets':'sum'}).sort_values(by=['Packets'], ascending=False).head(hotspots_num)\n",
    "tot_df[\"Packets\"] = tot_df[\"Packets\"].apply(number_format)\n",
    "tot_df[\"IP\"] = tot_df.index\n",
    "tot_df = tot_df[[\"IP\", \"Packets\"]]\n",
    "plt.table(cellText=tot_df.values, colLabels=tot_df.columns, cellLoc='center', bbox=[0,0,1,0.2*(hotspots_num+1)], cellColours=[['lightgrey']*2]*hotspots_num, colColours=['grey']*2)\n",
    "plt.axis('off')\n",
    "plt.show()"
   ]
  }
 ],
 "metadata": {
  "kernelspec": {
   "display_name": "Python 3.6",
   "language": "python",
   "name": "python3"
  },
  "language_info": {
   "codemirror_mode": {
    "name": "ipython",
    "version": 3
   },
   "file_extension": ".py",
   "mimetype": "text/x-python",
   "name": "python",
   "nbconvert_exporter": "python",
   "pygments_lexer": "ipython3",
   "version": "3.6.8"
  }
 },
 "nbformat": 4,
 "nbformat_minor": 1
}
